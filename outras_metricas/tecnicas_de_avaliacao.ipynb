{
  "nbformat": 4,
  "nbformat_minor": 0,
  "metadata": {
    "colab": {
      "provenance": [],
      "collapsed_sections": [
        "teOR4SgJgCaZ",
        "BNU73Sr_ZqPo",
        "JJiUwjJoacXw",
        "gnrDQSD9cYlu",
        "0WmA0ur-c-HV",
        "D-sh4P2Bdqzx",
        "QR-DZnlwdSWm",
        "uu3XoKKb_e87",
        "aL81mwkAFmB-",
        "Jhv-prMgKtkH",
        "PrHO44QdNiD8",
        "643OT5-yQk6O"
      ]
    },
    "kernelspec": {
      "name": "python3",
      "display_name": "Python 3"
    },
    "language_info": {
      "name": "python"
    }
  },
  "cells": [
    {
      "cell_type": "markdown",
      "metadata": {
        "id": "UOx2zMBJfSRW"
      },
      "source": [
        "\n",
        "> Utilizar o conjunto de dados ***Social Network Ads***, disponível em: https://www.kaggle.com/rakeshrau/social-network-ads/download ou [Download arquivo](https://drive.google.com/file/d/1840_pUTLcu1VM9avDxpo3t9p6cKV2nmc/view?usp=sharing\n",
        ")\n",
        "\n",
        "> Este conjunto de dados (dataset) apresenta dados sobre usuários em uma rede social e seu comportamento de compra. O objetivo do seu projeto final é utilizar ML para responder se um determinado usuário, após clicar em um anúncio na rede social comprará ou não um determinado produto. (Purchased, 0 = não, 1 = sim)\n",
        "\n"
      ]
    },
    {
      "cell_type": "markdown",
      "metadata": {
        "id": "ZUvptHCQiy0T"
      },
      "source": [
        "## Técnicas de avaliação do desempenho do modelo"
      ]
    },
    {
      "cell_type": "markdown",
      "source": [
        "### *Dtree*, modelo com menor score (0.84)"
      ],
      "metadata": {
        "id": "Y3clJqmwV05H"
      }
    },
    {
      "cell_type": "code",
      "metadata": {
        "id": "hFb_dc157AwN",
        "colab": {
          "base_uri": "https://localhost:8080/"
        },
        "outputId": "65497542-88d2-4c7f-f7ff-db75e9e35c07"
      },
      "source": [
        "y_pred = dtree.predict(X_test)\n",
        "\n",
        "print(classification_report(y_test, y_pred))"
      ],
      "execution_count": null,
      "outputs": [
        {
          "output_type": "stream",
          "name": "stdout",
          "text": [
            "              precision    recall  f1-score   support\n",
            "\n",
            "           0       0.98      0.96      0.97        53\n",
            "           1       0.94      0.97      0.96        35\n",
            "\n",
            "    accuracy                           0.97        88\n",
            "   macro avg       0.96      0.97      0.96        88\n",
            "weighted avg       0.97      0.97      0.97        88\n",
            "\n"
          ]
        }
      ]
    },
    {
      "cell_type": "markdown",
      "source": [
        "### *Fr3*, modelo com maior score (0.96)"
      ],
      "metadata": {
        "id": "kvrTuXq_V4ag"
      }
    },
    {
      "cell_type": "code",
      "source": [
        "rf3 = load('/content/modelo_rf.sav') # devido a estar rodando depois de fechado o notebook, estou pegando o modelo rf3 salvo no arquivo modelo_rf.sav \n",
        "\n",
        "y_pred2 = rf3.predict(X_test3)\n",
        "\n",
        "print(classification_report(y_test3, y_pred2))"
      ],
      "metadata": {
        "colab": {
          "base_uri": "https://localhost:8080/"
        },
        "id": "1V_Z1aRyV7x7",
        "outputId": "cee30786-8fe0-405c-d592-5cbf028c1559"
      },
      "execution_count": null,
      "outputs": [
        {
          "output_type": "stream",
          "name": "stdout",
          "text": [
            "              precision    recall  f1-score   support\n",
            "\n",
            "           0       1.00      0.94      0.97        53\n",
            "           1       0.92      1.00      0.96        35\n",
            "\n",
            "    accuracy                           0.97        88\n",
            "   macro avg       0.96      0.97      0.96        88\n",
            "weighted avg       0.97      0.97      0.97        88\n",
            "\n"
          ]
        }
      ]
    }
  ]
}