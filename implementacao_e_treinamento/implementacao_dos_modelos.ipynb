{
  "nbformat": 4,
  "nbformat_minor": 0,
  "metadata": {
    "colab": {
      "provenance": [],
      "collapsed_sections": [
        "teOR4SgJgCaZ",
        "BNU73Sr_ZqPo",
        "JJiUwjJoacXw",
        "gnrDQSD9cYlu",
        "0WmA0ur-c-HV",
        "D-sh4P2Bdqzx",
        "QR-DZnlwdSWm",
        "uu3XoKKb_e87",
        "aL81mwkAFmB-",
        "Jhv-prMgKtkH",
        "PrHO44QdNiD8",
        "643OT5-yQk6O"
      ]
    },
    "kernelspec": {
      "name": "python3",
      "display_name": "Python 3"
    },
    "language_info": {
      "name": "python"
    }
  },
  "cells": [
    {
      "cell_type": "markdown",
      "metadata": {
        "id": "UOx2zMBJfSRW"
      },
      "source": [
        "\n",
        "*   Você deverá utilizar o conjunto de dados ***Social Network Ads***, disponível em: https://www.kaggle.com/rakeshrau/social-network-ads/download ou [Download arquivo](https://drive.google.com/file/d/1840_pUTLcu1VM9avDxpo3t9p6cKV2nmc/view?usp=sharing\n",
        ")\n",
        "\n",
        "> Este conjunto de dados (dataset) apresenta dados sobre usuários em uma rede social e seu comportamento de compra. O objetivo do seu projeto final é utilizar ML para responder se um determinado usuário, após clicar em um anúncio na rede social comprará ou não um determinado produto. (Purchased, 0 = não, 1 = sim)\n",
        "\n"
      ]
    },
    {
      "cell_type": "markdown",
      "metadata": {
        "id": "DqfL1qQSgGUO"
      },
      "source": [
        "## Implementação dos métodos de aprendizado supervisionado "
      ]
    },
    {
      "cell_type": "markdown",
      "source": [
        "### KNN"
      ],
      "metadata": {
        "id": "uu3XoKKb_e87"
      }
    },
    {
      "cell_type": "code",
      "metadata": {
        "id": "_BycuPlr69-2",
        "colab": {
          "base_uri": "https://localhost:8080/"
        },
        "outputId": "2e2c61cf-873e-4fce-c292-18a4391b0ff8"
      },
      "source": [
        "padronizacao = StandardScaler()\n",
        "padronizacao.fit(X)\n",
        "\n",
        "X_padronizado = padronizacao.transform(X)\n",
        "\n",
        "X_train, X_test, y_train, y_test = train_test_split(X_padronizado, y, test_size=0.22) #disivão do dataset em treinamento/teste\n",
        "\n",
        "rus = RandomUnderSampler()\n",
        "\n",
        "X_res, y_res = rus.fit_resample(X_train, y_train) #faz o balanceamento\n",
        "\n",
        "knn = KNeighborsClassifier(n_neighbors=5, p=2)\n",
        "\n",
        "knn.fit(X_res,y_res) #treina o modelo\n",
        "\n",
        "knn.score(X_test,y_test)\n"
      ],
      "execution_count": null,
      "outputs": [
        {
          "output_type": "execute_result",
          "data": {
            "text/plain": [
              "0.9545454545454546"
            ]
          },
          "metadata": {},
          "execution_count": 62
        }
      ]
    },
    {
      "cell_type": "code",
      "source": [
        "minmax = MinMaxScaler()\n",
        "minmax.fit(X)\n",
        "X_minmax = minmax.transform(X)\n",
        "\n",
        "X_train3, X_test3, y_train3, y_test3 = train_test_split(X_minmax, y, test_size=0.22) #disivão do dataset em treinamento/teste\n",
        "\n",
        "rus3 = RandomUnderSampler()\n",
        "\n",
        "X_res3, y_res3 = rus.fit_resample(X_train3, y_train3) #faz o balanceamento\n",
        "\n",
        "knn3 = KNeighborsClassifier(n_neighbors=5, p=2)\n",
        "\n",
        "knn3.fit(X_res3,y_res3) #treina o modelo\n",
        "\n",
        "knn3.score(X_test3,y_test3)"
      ],
      "metadata": {
        "colab": {
          "base_uri": "https://localhost:8080/"
        },
        "id": "efX4HZ0dGn0h",
        "outputId": "d8eed792-645c-42fd-e48e-0b524e0a4c64"
      },
      "execution_count": null,
      "outputs": [
        {
          "output_type": "execute_result",
          "data": {
            "text/plain": [
              "0.9318181818181818"
            ]
          },
          "metadata": {},
          "execution_count": 61
        }
      ]
    },
    {
      "cell_type": "code",
      "source": [
        "X_train2, X_test2, y_train2, y_test2 = train_test_split(X, y, test_size=0.22) #disivão do dataset em treinamento/teste\n",
        "\n",
        "rus2 = RandomUnderSampler()\n",
        "\n",
        "X_res2, y_res2 = rus.fit_resample(X_train2, y_train2) #faz o balanceamento\n",
        "\n",
        "knn2 = KNeighborsClassifier(n_neighbors=5, p=2)\n",
        "\n",
        "knn2.fit(X_res2,y_res2) #treina o modelo\n",
        "\n",
        "knn2.score(X_test2,y_test2)"
      ],
      "metadata": {
        "colab": {
          "base_uri": "https://localhost:8080/"
        },
        "id": "EfmzjMetEq7k",
        "outputId": "0c1aba3a-2de3-4339-8a68-fbae11a30d38"
      },
      "execution_count": null,
      "outputs": [
        {
          "output_type": "execute_result",
          "data": {
            "text/plain": [
              "0.8636363636363636"
            ]
          },
          "metadata": {},
          "execution_count": 34
        }
      ]
    },
    {
      "cell_type": "code",
      "source": [
        "pickle.dump(knn, open('modelo_knn.sav', 'wb'))"
      ],
      "metadata": {
        "id": "naRQys01FUmq"
      },
      "execution_count": null,
      "outputs": []
    },
    {
      "cell_type": "markdown",
      "source": [
        "Exite uma grande diferença dentro do método KNN com ajuste de magnitude e sem ajuste de magnitude. Sem o ajuste não passa de 0.86 o score, já com o ajuste chega-se até 0.95."
      ],
      "metadata": {
        "id": "pgXEf0S2KKD1"
      }
    },
    {
      "cell_type": "markdown",
      "source": [
        "### Naive Bayes"
      ],
      "metadata": {
        "id": "aL81mwkAFmB-"
      }
    },
    {
      "cell_type": "code",
      "source": [
        "X_train, X_test, y_train, y_test = train_test_split(X, y, test_size=0.22)\n",
        "\n",
        "gnb = GaussianNB()\n",
        "\n",
        "gnb.fit(X_train, y_train)\n",
        "\n",
        "gnb.score(X_test, y_test)"
      ],
      "metadata": {
        "colab": {
          "base_uri": "https://localhost:8080/"
        },
        "id": "kchTrmW3IM_E",
        "outputId": "d5c21643-1c45-4836-aeed-7caa3500d904"
      },
      "execution_count": null,
      "outputs": [
        {
          "output_type": "execute_result",
          "data": {
            "text/plain": [
              "0.8522727272727273"
            ]
          },
          "metadata": {},
          "execution_count": 65
        }
      ]
    },
    {
      "cell_type": "code",
      "source": [
        "X_train2, X_test2, y_train2, y_test2 = train_test_split(X, y, test_size=0.22)\n",
        "\n",
        "gnb2 = GaussianNB()\n",
        "\n",
        "rus2 = RandomUnderSampler() \n",
        "\n",
        "X_res2, y_res2 = rus.fit_resample(X_train2, y_train2) #balanceamento\n",
        "\n",
        "gnb2.fit(X_res2, y_res2)\n",
        "\n",
        "gnb2.score(X_test, y_test)"
      ],
      "metadata": {
        "colab": {
          "base_uri": "https://localhost:8080/"
        },
        "id": "Jo0IKqH3I00k",
        "outputId": "f4cdf60d-c0bb-40a8-96a8-43adb228068b"
      },
      "execution_count": null,
      "outputs": [
        {
          "output_type": "execute_result",
          "data": {
            "text/plain": [
              "0.9090909090909091"
            ]
          },
          "metadata": {},
          "execution_count": 67
        }
      ]
    },
    {
      "cell_type": "code",
      "source": [
        "padronizacao = StandardScaler()\n",
        "padronizacao.fit(X)\n",
        "\n",
        "X_padronizado = padronizacao.transform(X) #padronizacao\n",
        "\n",
        "X_train3, X_test3, y_train3, y_test3 = train_test_split(X_padronizado, y, test_size=0.22)\n",
        "\n",
        "gnb3 = GaussianNB()\n",
        "\n",
        "rus3 = RandomUnderSampler()\n",
        "\n",
        "X_res3, y_res3 = rus.fit_resample(X_train3, y_train3) #balanceamento\n",
        "\n",
        "gnb3.fit(X_res3, y_res3)\n",
        "\n",
        "gnb3.score(X_test3, y_test3)"
      ],
      "metadata": {
        "colab": {
          "base_uri": "https://localhost:8080/"
        },
        "id": "fNd6baDYJJrS",
        "outputId": "0571a0af-e530-4262-986b-686c8c027328"
      },
      "execution_count": null,
      "outputs": [
        {
          "output_type": "execute_result",
          "data": {
            "text/plain": [
              "0.9090909090909091"
            ]
          },
          "metadata": {},
          "execution_count": 78
        }
      ]
    },
    {
      "cell_type": "code",
      "source": [
        "minmax = MinMaxScaler()\n",
        "minmax.fit(X)\n",
        "X_minmax = minmax.transform(X) #padronizacao\n",
        "\n",
        "X_train4, X_test4, y_train4, y_test4 = train_test_split(X_minmax, y, test_size=0.22)\n",
        "\n",
        "gnb4 = GaussianNB()\n",
        "\n",
        "rus4 = RandomUnderSampler()\n",
        "\n",
        "X_res4, y_res4 = rus.fit_resample(X_train4, y_train4) #balanceamento\n",
        "\n",
        "gnb4.fit(X_res4, y_res4)\n",
        "\n",
        "gnb4.score(X_test4, y_test4)"
      ],
      "metadata": {
        "colab": {
          "base_uri": "https://localhost:8080/"
        },
        "id": "_92IW5quJuXQ",
        "outputId": "5e037c13-8c28-49a8-a3b3-6cc4e7a08269"
      },
      "execution_count": null,
      "outputs": [
        {
          "output_type": "execute_result",
          "data": {
            "text/plain": [
              "0.9090909090909091"
            ]
          },
          "metadata": {},
          "execution_count": 85
        }
      ]
    },
    {
      "cell_type": "code",
      "source": [
        "pickle.dump(gnb2, open('modelo_gnb.sav', 'wb'))"
      ],
      "metadata": {
        "id": "xiDSlZ8iMhVx"
      },
      "execution_count": null,
      "outputs": []
    },
    {
      "cell_type": "markdown",
      "source": [
        "O método Naive Bayes não precisa de ajuste de magnitude, apenas do balanceamento."
      ],
      "metadata": {
        "id": "jZwBAHvfKCvo"
      }
    },
    {
      "cell_type": "markdown",
      "source": [
        "### Decision Tree"
      ],
      "metadata": {
        "id": "Jhv-prMgKtkH"
      }
    },
    {
      "cell_type": "code",
      "source": [
        "X_train, X_test, y_train, y_test = train_test_split(X, y, test_size=0.22)\n",
        "\n",
        "dtree = DecisionTreeClassifier()\n",
        "dtree.fit(X_train, y_train)\n",
        "\n",
        "dtree.score(X_test, y_test)"
      ],
      "metadata": {
        "colab": {
          "base_uri": "https://localhost:8080/"
        },
        "id": "ZfxdFoMSKyE0",
        "outputId": "180305ec-6e7a-4708-b675-e0deed44879d"
      },
      "execution_count": null,
      "outputs": [
        {
          "output_type": "execute_result",
          "data": {
            "text/plain": [
              "0.8409090909090909"
            ]
          },
          "metadata": {},
          "execution_count": 93
        }
      ]
    },
    {
      "cell_type": "code",
      "source": [
        "X_train2, X_test2, y_train2, y_test2 = train_test_split(X, y, test_size=0.22)\n",
        "\n",
        "dtree2 = DecisionTreeClassifier()\n",
        "\n",
        "rus2 = RandomUnderSampler()\n",
        "\n",
        "X_res2, y_res2 = rus2.fit_resample(X_train2, y_train2)\n",
        "\n",
        "dtree2.fit(X_res2, y_res2)\n",
        "\n",
        "dtree2.score(X_test2, y_test2)"
      ],
      "metadata": {
        "colab": {
          "base_uri": "https://localhost:8080/"
        },
        "id": "dqdEu-6gLfvf",
        "outputId": "bd16feb8-0c60-4403-a43e-5f04b7f50de2"
      },
      "execution_count": null,
      "outputs": [
        {
          "output_type": "execute_result",
          "data": {
            "text/plain": [
              "0.8636363636363636"
            ]
          },
          "metadata": {},
          "execution_count": 98
        }
      ]
    },
    {
      "cell_type": "code",
      "source": [
        "padronizacao = StandardScaler()\n",
        "padronizacao.fit(X)\n",
        "\n",
        "X_padronizado = padronizacao.transform(X)\n",
        "\n",
        "X_train3, X_test3, y_train3, y_test3 = train_test_split(X_padronizado, y, test_size=0.22)\n",
        "\n",
        "dtree3 = DecisionTreeClassifier()\n",
        "\n",
        "rus3 = RandomUnderSampler()\n",
        "\n",
        "X_res3, y_res3 = rus3.fit_resample(X_train3, y_train3)\n",
        "\n",
        "dtree3.fit(X_res3, y_res3)\n",
        "\n",
        "dtree3.score(X_test3, y_test3)"
      ],
      "metadata": {
        "colab": {
          "base_uri": "https://localhost:8080/"
        },
        "id": "RhH4CNbCL31g",
        "outputId": "64f01f56-5717-422d-db9c-28bd22d4ebc8"
      },
      "execution_count": null,
      "outputs": [
        {
          "output_type": "execute_result",
          "data": {
            "text/plain": [
              "0.9204545454545454"
            ]
          },
          "metadata": {},
          "execution_count": 101
        }
      ]
    },
    {
      "cell_type": "code",
      "source": [
        "minmax = MinMaxScaler()\n",
        "minmax.fit(X)\n",
        "X_minmax = minmax.transform(X)\n",
        "\n",
        "X_train4, X_test4, y_train4, y_test4 = train_test_split(X_minmax, y, test_size=0.22)\n",
        "\n",
        "dtree4 = DecisionTreeClassifier()\n",
        "\n",
        "rus4 = RandomUnderSampler()\n",
        "\n",
        "X_res4, y_res4 = rus4.fit_resample(X_train4, y_train4)\n",
        "\n",
        "dtree4.fit(X_res4, y_res4)\n",
        "\n",
        "dtree4.score(X_test4, y_test4)"
      ],
      "metadata": {
        "colab": {
          "base_uri": "https://localhost:8080/"
        },
        "id": "N2GJV-E_MVTD",
        "outputId": "1a65fa51-d206-4c3c-85ef-12ae959b7a09"
      },
      "execution_count": null,
      "outputs": [
        {
          "output_type": "execute_result",
          "data": {
            "text/plain": [
              "0.8863636363636364"
            ]
          },
          "metadata": {},
          "execution_count": 108
        }
      ]
    },
    {
      "cell_type": "code",
      "source": [
        "pickle.dump(dtree3, open('modelo_dtree.sav', 'wb'))"
      ],
      "metadata": {
        "id": "0joJW79CNYOJ"
      },
      "execution_count": null,
      "outputs": []
    },
    {
      "cell_type": "markdown",
      "source": [
        "A Decision Tree tem diferença para um dataset balanceado, e pode gerar uma melhora pelo ajuste de magnitude, porém é necessário alguns treinamentos do modelo para que gere um score maior."
      ],
      "metadata": {
        "id": "pdVrIgn1M7T0"
      }
    },
    {
      "cell_type": "markdown",
      "source": [
        "### Random Forest"
      ],
      "metadata": {
        "id": "PrHO44QdNiD8"
      }
    },
    {
      "cell_type": "code",
      "source": [
        "X_train, X_test, y_train, y_test = train_test_split(X, y, test_size=0.22)\n",
        "\n",
        "rf = RandomForestClassifier()\n",
        "\n",
        "rf.fit(X_train, y_train)\n",
        "\n",
        "rf.score(X_test, y_test)"
      ],
      "metadata": {
        "colab": {
          "base_uri": "https://localhost:8080/"
        },
        "id": "--1r-Ht2NlzL",
        "outputId": "62cc6a67-2328-486f-f168-6535974101bc"
      },
      "execution_count": null,
      "outputs": [
        {
          "output_type": "execute_result",
          "data": {
            "text/plain": [
              "0.9204545454545454"
            ]
          },
          "metadata": {},
          "execution_count": 120
        }
      ]
    },
    {
      "cell_type": "code",
      "source": [
        "X_train2, X_test2, y_train2, y_test2 = train_test_split(X, y, test_size=0.22)\n",
        "\n",
        "rus2 = RandomUnderSampler()\n",
        "\n",
        "X_res2, y_res2 = rus2.fit_resample(X_train2, y_train2)\n",
        "\n",
        "rf2 = RandomForestClassifier()\n",
        "\n",
        "rf2.fit(X_res2, y_res2)\n",
        "\n",
        "rf2.score(X_test2, y_test2)"
      ],
      "metadata": {
        "colab": {
          "base_uri": "https://localhost:8080/"
        },
        "id": "i3aGKGiEOe4G",
        "outputId": "cf324e51-cafb-4485-a438-269470751c33"
      },
      "execution_count": null,
      "outputs": [
        {
          "output_type": "execute_result",
          "data": {
            "text/plain": [
              "0.8977272727272727"
            ]
          },
          "metadata": {},
          "execution_count": 130
        }
      ]
    },
    {
      "cell_type": "code",
      "source": [
        "padronizacao = StandardScaler()\n",
        "padronizacao.fit(X)\n",
        "\n",
        "X_padronizado = padronizacao.transform(X)\n",
        "\n",
        "X_train3, X_test3, y_train3, y_test3 = train_test_split(X_padronizado, y, test_size=0.22)\n",
        "\n",
        "rf3 = RandomForestClassifier()\n",
        "\n",
        "rus3 = RandomUnderSampler()\n",
        "\n",
        "X_res3, y_res3 = rus3.fit_resample(X_train3, y_train3)\n",
        "\n",
        "rf3.fit(X_res3, y_res3)\n",
        "\n",
        "rf3.score(X_test3, y_test3)"
      ],
      "metadata": {
        "colab": {
          "base_uri": "https://localhost:8080/"
        },
        "id": "N0DuLUPzOw-Y",
        "outputId": "0ce3142a-5db7-4160-ad1c-983ca7fe05b6"
      },
      "execution_count": null,
      "outputs": [
        {
          "output_type": "execute_result",
          "data": {
            "text/plain": [
              "0.9659090909090909"
            ]
          },
          "metadata": {},
          "execution_count": 132
        }
      ]
    },
    {
      "cell_type": "code",
      "source": [
        "minmax = MinMaxScaler()\n",
        "minmax.fit(X)\n",
        "X_minmax = minmax.transform(X)\n",
        "\n",
        "X_train4, X_test4, y_train4, y_test4 = train_test_split(X_minmax, y, test_size=0.22)\n",
        "\n",
        "rf4 = RandomForestClassifier()\n",
        "\n",
        "rus4 = RandomUnderSampler()\n",
        "\n",
        "X_res4, y_res4 = rus4.fit_resample(X_train4, y_train4)\n",
        "\n",
        "rf4.fit(X_res4, y_res4)\n",
        "\n",
        "rf4.score(X_test4, y_test4)"
      ],
      "metadata": {
        "colab": {
          "base_uri": "https://localhost:8080/"
        },
        "id": "Pi1wntruPj4-",
        "outputId": "ebf34c38-02ae-4480-bb11-f57b944948bd"
      },
      "execution_count": null,
      "outputs": [
        {
          "output_type": "execute_result",
          "data": {
            "text/plain": [
              "0.875"
            ]
          },
          "metadata": {},
          "execution_count": 139
        }
      ]
    },
    {
      "cell_type": "code",
      "source": [
        "pickle.dump(rf3, open('modelo_rf.sav', 'wb'))"
      ],
      "metadata": {
        "id": "6ka7rsgUQNau"
      },
      "execution_count": null,
      "outputs": []
    },
    {
      "cell_type": "markdown",
      "source": [
        "O método Random Forest consegue lidar bem com o desbalanceamento não tendo uma grande diferença entre balanceado e desbalanceado, porém com o ajuste de magnitude do StandartScaler o score conseguiu chegar a mais de 0.95."
      ],
      "metadata": {
        "id": "Qwc9TC63PvTl"
      }
    },
    {
      "cell_type": "markdown",
      "source": [
        "### VotingClassifier"
      ],
      "metadata": {
        "id": "643OT5-yQk6O"
      }
    },
    {
      "cell_type": "code",
      "source": [
        "X_train, X_test, y_train, y_test = train_test_split(X, y, test_size=0.22)\n",
        "\n",
        "rus = RandomUnderSampler()\n",
        "\n",
        "X_res, y_res = rus.fit_resample(X_train, y_train)\n",
        "\n",
        "m1_gnb = GaussianNB()\n",
        "m2_dtree = DecisionTreeClassifier(max_depth = 15)\n",
        "m3_knn = KNeighborsClassifier(n_neighbors = 7, p=2)\n",
        "m4_knnM = KNeighborsClassifier(n_neighbors = 7, p=1)\n",
        "\n",
        "v = VotingClassifier(estimators=[\n",
        "                                  ('gnb', m1_gnb), \n",
        "                                  ('dt', m2_dtree),\n",
        "                                  ('knn', m3_knn),\n",
        "                                  ('knnM', m4_knnM)\n",
        "                                ]\n",
        ")\n",
        "\n",
        "v.fit(X_res, y_res)\n",
        "v.score(X_test, y_test)"
      ],
      "metadata": {
        "colab": {
          "base_uri": "https://localhost:8080/"
        },
        "id": "gvx5YiTeQqG2",
        "outputId": "e510709d-f453-49ac-9360-12b951948dc6"
      },
      "execution_count": null,
      "outputs": [
        {
          "output_type": "execute_result",
          "data": {
            "text/plain": [
              "0.8636363636363636"
            ]
          },
          "metadata": {},
          "execution_count": 145
        }
      ]
    },
    {
      "cell_type": "code",
      "source": [
        "pickle.dump(v, open('modelo_vc.sav', 'wb'))"
      ],
      "metadata": {
        "id": "K2mA_WIaVY7H"
      },
      "execution_count": null,
      "outputs": []
    }
  ]
}